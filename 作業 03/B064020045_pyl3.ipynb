{
 "cells": [
  {
   "cell_type": "code",
   "execution_count": null,
   "metadata": {},
   "outputs": [
    {
     "name": "stdout",
     "output_type": "stream",
     "text": [
      "    1      2      3      4      5      6  \n",
      "\n",
      "    2      4      6      8     10     12  \n",
      "\n",
      "    3      6      9     12     15     18  \n",
      "\n",
      "    4      8     12     16     20     24  \n",
      "\n",
      "    5     10     15     20     25     30  \n",
      "\n",
      "    6     12     18     24     30     36  \n",
      "\n"
     ]
    }
   ],
   "source": [
    "def print_multiplication_table(number):\n",
    "    for i in range(1,number+1,1):\n",
    "        for j in range(1,number+1,1):\n",
    "            result=i*j\n",
    "            print(\"%5d\" %result,end=\"  \")\n",
    "        print(\"\\n\")\n",
    "        \n",
    "number=input(\"Enter the number\")\n",
    "number=int (number)\n",
    "\n",
    "while number>=1:\n",
    "    print_multiplication_table(number)\n",
    "    \n",
    "    number=input(\"enter the number\")\n",
    "    number=int(number) \n",
    "\n",
    "if number<1:\n",
    "    print(\"bye\")"
   ]
  },
  {
   "cell_type": "code",
   "execution_count": null,
   "metadata": {},
   "outputs": [],
   "source": []
  }
 ],
 "metadata": {
  "kernelspec": {
   "display_name": "Python 3",
   "language": "python",
   "name": "python3"
  },
  "language_info": {
   "codemirror_mode": {
    "name": "ipython",
    "version": 3
   },
   "file_extension": ".py",
   "mimetype": "text/x-python",
   "name": "python",
   "nbconvert_exporter": "python",
   "pygments_lexer": "ipython3",
   "version": "3.4.5"
  }
 },
 "nbformat": 4,
 "nbformat_minor": 2
}

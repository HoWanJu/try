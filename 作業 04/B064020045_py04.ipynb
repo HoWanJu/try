{
 "cells": [
  {
   "cell_type": "code",
   "execution_count": 1,
   "metadata": {},
   "outputs": [
    {
     "name": "stdout",
     "output_type": "stream",
     "text": [
      "[['one', [1, [1j, '1j']], 1]]\n",
      "[['one', [1, [1j, '1j']], 1], ['two', [2, [2j, '2j']], 2]]\n",
      "[['one', [1, [1j, '1j']], 1], ['two', [2, [2j, '2j']], 2], ['three', [3, [3j, '3j']], 3]]\n",
      "[['one', [1, [1j, '1j']], 1], ['two', [2, [2j, '2j']], 2], ['three', [3, [3j, '3j']], 3], ['four', [4, [4j, '4j']], 4]]\n"
     ]
    }
   ],
   "source": [
    "one=[['one',[1,[1j,'1j']],1]]\n",
    "print(one)\n",
    "two=[['two',[2,[2j,'2j']],2]]\n",
    "a=one+two\n",
    "print(a)\n",
    "three=[['three',[3,[3j,'3j']],3]]\n",
    "b=a+three\n",
    "print(b)\n",
    "four=[['four',[4,[4j,'4j']],4]]\n",
    "c=b+four\n",
    "print(c)"
   ]
  },
  {
   "cell_type": "code",
   "execution_count": null,
   "metadata": {},
   "outputs": [],
   "source": []
  }
 ],
 "metadata": {
  "kernelspec": {
   "display_name": "Python 3",
   "language": "python",
   "name": "python3"
  },
  "language_info": {
   "codemirror_mode": {
    "name": "ipython",
    "version": 3
   },
   "file_extension": ".py",
   "mimetype": "text/x-python",
   "name": "python",
   "nbconvert_exporter": "python",
   "pygments_lexer": "ipython3",
   "version": "3.4.5"
  }
 },
 "nbformat": 4,
 "nbformat_minor": 2
}

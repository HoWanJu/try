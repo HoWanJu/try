{
 "cells": [
  {
   "cell_type": "code",
   "execution_count": 19,
   "metadata": {},
   "outputs": [
    {
     "name": "stdout",
     "output_type": "stream",
     "text": [
      "There are 22 good students\n",
      "\n",
      "dict_keys(['B064020034', 'B054020053', 'B054020044', 'B064020023', 'B064020037', 'B064020044', 'B064020051', 'B064020026', 'B064020015', 'B056060006', 'B056060001', 'B064020031', 'B064020043', 'B064020012', 'B064020008', 'B064020029', 'B056090031', 'B064020047', 'B064020036', 'B064020005', 'B064020040', 'B064020024'])\n"
     ]
    }
   ],
   "source": [
    "import csv\n",
    "f = open('student_example.csv', 'r')\n",
    "mydict=dict()\n",
    "for row in csv.reader(f):\n",
    "    key=row[0]\n",
    "    mydict[key]=row[1]\n",
    "    \n",
    "over80={}\n",
    "for i in mydict:\n",
    "    if int (mydict[i])>80:\n",
    "        over80[i]=mydict[i]\n",
    "        \n",
    "print('There are %d good students'%len(over80))\n",
    "print('')\n",
    "print(over80.keys())"
   ]
  },
  {
   "cell_type": "code",
   "execution_count": null,
   "metadata": {},
   "outputs": [],
   "source": []
  }
 ],
 "metadata": {
  "kernelspec": {
   "display_name": "Python 3",
   "language": "python",
   "name": "python3"
  },
  "language_info": {
   "codemirror_mode": {
    "name": "ipython",
    "version": 3
   },
   "file_extension": ".py",
   "mimetype": "text/x-python",
   "name": "python",
   "nbconvert_exporter": "python",
   "pygments_lexer": "ipython3",
   "version": "3.4.5"
  }
 },
 "nbformat": 4,
 "nbformat_minor": 2
}

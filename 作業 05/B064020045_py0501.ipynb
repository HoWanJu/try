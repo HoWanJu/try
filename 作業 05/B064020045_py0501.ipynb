{
 "cells": [
  {
   "cell_type": "code",
   "execution_count": 4,
   "metadata": {},
   "outputs": [
    {
     "name": "stdout",
     "output_type": "stream",
     "text": [
      "{'quan': 'quantifier', 'conj': 'conjunction', 'prep': 'preposition', 'sg': 'singular', '2p': '2nd person plural', 'flower': 'handsome TA', 'imper': 'imperative', 'v': 'verb', 'neg': 'negative', 'imperf': 'imperfect', 'pl': 'plural', 'ord': 'ordinal', 'past': 'past', 'cond': 'conditional', 'num': 'numeral', 'preq': 'prequalifier', 'n': 'noun', 'dim': 'diminutive', 'mf': 'masculine or feminine', '1s': '1st person singular', '3s': '3rd person singular', '1p': '1st person plural', '2s': '2nd person singular', 'm': 'masculine', 'subj': 'subjunctive', 'pron': 'pronoun', 'adj': 'adjective', 'f': 'feminine', 'adv': 'adverb', 'sp': 'singular or plural', 'dem': 'demonstrative', 'pluperf': 'pluperfect', 'hyp': 'hypothetical', '3p': '3rd person plural', 'rel': 'relative', 'infin': 'infinitive', 'MIS': 'Management Information System', 'poss': 'possessive', '0': 'impersonal', 'comp': 'comparative', 'int': 'interrogative', 'fut': 'future', 'TA': 'handsome bowen'}\n",
      " \n",
      "How many abbreviations in this dictionary 43\n",
      " \n",
      "verb\n",
      " \n",
      "{'quan': 'quantifier', 'conj': 'conjunction', 'prep': 'preposition', 'sg': 'singular', '2p': '2nd person plural', 'imper': 'imperative', 'v': 'verb', 'neg': 'negative', 'imperf': 'imperfect', 'pl': 'plural', 'ord': 'ordinal', 'past': 'past', 'cond': 'conditional', 'num': 'numeral', 'preq': 'prequalifier', 'n': 'noun', 'dim': 'diminutive', 'mf': 'masculine or feminine', '1s': '1st person singular', '3s': '3rd person singular', '1p': '1st person plural', '2s': '2nd person singular', 'm': 'masculine', 'subj': 'subjunctive', 'pron': 'pronoun', 'adj': 'adjective', 'f': 'feminine', 'adv': 'adverb', 'sp': 'singular or plural', 'dem': 'demonstrative', 'pluperf': 'pluperfect', 'hyp': 'hypothetical', '3p': '3rd person plural', 'rel': 'relative', 'infin': 'infinitive', 'MIS': 'Management Information System', 'poss': 'possessive', '0': 'impersonal', 'comp': 'comparative', 'int': 'interrogative', 'fut': 'future', 'TA': 'Teach Assistant'}\n"
     ]
    }
   ],
   "source": [
    "import csv\n",
    "f = open('abbreviations.csv', 'r')\n",
    "mydict=dict()\n",
    "for row in csv.reader(f):\n",
    "    key=row[0]\n",
    "    mydict[key]=row[1]\n",
    "mydict['MIS']='Management Information System'\n",
    "print (mydict)\n",
    "print(' ')\n",
    "print('How many abbreviations in this dictionary',len(mydict))\n",
    "print(' ')\n",
    "\n",
    "if 'v' in mydict:\n",
    "    print(mydict['v'])\n",
    "print(' ')\n",
    "\n",
    "mydict['TA']='Teach Assistant'\n",
    "del mydict['flower']\n",
    "print (mydict)\n"
   ]
  },
  {
   "cell_type": "code",
   "execution_count": null,
   "metadata": {},
   "outputs": [],
   "source": []
  }
 ],
 "metadata": {
  "kernelspec": {
   "display_name": "Python 3",
   "language": "python",
   "name": "python3"
  },
  "language_info": {
   "codemirror_mode": {
    "name": "ipython",
    "version": 3
   },
   "file_extension": ".py",
   "mimetype": "text/x-python",
   "name": "python",
   "nbconvert_exporter": "python",
   "pygments_lexer": "ipython3",
   "version": "3.4.5"
  }
 },
 "nbformat": 4,
 "nbformat_minor": 2
}

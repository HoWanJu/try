{
 "cells": [
  {
   "cell_type": "markdown",
   "metadata": {},
   "source": [
    "# Lecture 2 - Function and Iteration"
   ]
  },
  {
   "cell_type": "markdown",
   "metadata": {},
   "source": [
    "## Outline\n",
    "\n",
    "* Function\n",
    "\t* Function definition\n",
    "    * Difference between **argument** and **parameter**\n",
    "* Iteration\n",
    "\t* for loop\n",
    "\t* while loop\n",
    "\t* do-while loop\n",
    "    \n",
    "## Function\n",
    "\n",
    "### Function definition\n",
    "\n",
    "在 C 中宣告 function 的語法是\n",
    "\n",
    "```C\n",
    "int square(int x) {\n",
    "\treturn(x * x);\n",
    "}\n",
    "```\n",
    "\n",
    "而在 Python 中宣告 function 的語法是\n",
    "\n",
    "```python\n",
    "def square(x):\n",
    "\treturn(x * x)\n",
    "```\n"
   ]
  },
  {
   "cell_type": "code",
   "execution_count": 1,
   "metadata": {},
   "outputs": [
    {
     "name": "stdout",
     "output_type": "stream",
     "text": [
      "Hello\n",
      "Fun\n",
      "4\n",
      "Hello\n",
      "Fun\n"
     ]
    }
   ],
   "source": [
    "def thing():\n",
    "    print(\"Hello\")\n",
    "    print(\"Fun\")\n",
    "thing() \n",
    "print(\"4\")\n",
    "thing() "
   ]
  },
  {
   "cell_type": "markdown",
   "metadata": {},
   "source": [
    "Python 中有些 Build-in 的 function,\n",
    "e.g. ```int(), float(), max(), type(), raw_input()```\n",
    "\n",
    "而你也可以寫你自己的 function\n",
    "\n",
    "function 的取名如變數取名一樣, 請避免保留字\n",
    "\n",
    "### Difference between argument and parameter\n",
    "\n",
    "```python\n",
    "def greet(lang):\n",
    "#         ^^^^ this is a parameter (actual parameter)\n",
    "\tif(lang == \"es\"):\n",
    "    \tprint(\"Hola\")\n",
    "    elif(lang == \"fr\"):\n",
    "    \tprint(\"Bonjour\")\n",
    "    else:\n",
    "    \tprint(\"Hello\")\n",
    "      \n",
    "greet(lang = \"fr\")\n",
    "#            ^^^^ this is an argument (formal argument)\n",
    "```\n",
    "\n",
    "* formal parameter 指的就是那個用來代表參數的符號而已，\n",
    "* actual argument 才是那個實際的值。"
   ]
  },
  {
   "cell_type": "markdown",
   "metadata": {},
   "source": [
    "## Iteration\n",
    "\n",
    "### for loop\n",
    "\n",
    "for 用於知道迴圈要作幾次時"
   ]
  },
  {
   "cell_type": "code",
   "execution_count": 13,
   "metadata": {},
   "outputs": [
    {
     "name": "stdout",
     "output_type": "stream",
     "text": [
      "0\n",
      "1\n",
      "4\n",
      "9\n"
     ]
    }
   ],
   "source": [
    "for i in [0, 1, 2, 3]:\n",
    "    print(i ** 2)"
   ]
  },
  {
   "cell_type": "markdown",
   "metadata": {},
   "source": [
    "在 python 中, for 通常與 function `range()` 搭配"
   ]
  },
  {
   "cell_type": "code",
   "execution_count": 17,
   "metadata": {},
   "outputs": [
    {
     "name": "stdout",
     "output_type": "stream",
     "text": [
      "Square of 1 = 1\n",
      "Square of 3 = 9\n",
      "Square of 5 = 25\n",
      "Square of 7 = 49\n",
      "Square of 9 = 81\n"
     ]
    }
   ],
   "source": [
    "for i in range(1, 10, 2):\n",
    "    print(\"Square of \" + str(i) + \" = \" + str(i**2))"
   ]
  },
  {
   "cell_type": "markdown",
   "metadata": {},
   "source": [
    "在 python 中, 如果你想知道某個 build-in function 的作用, 你可以透過 function `help` 來查看"
   ]
  },
  {
   "cell_type": "code",
   "execution_count": 11,
   "metadata": {},
   "outputs": [
    {
     "name": "stdout",
     "output_type": "stream",
     "text": [
      "Help on class range in module builtins:\n",
      "\n",
      "class range(object)\n",
      " |  range(stop) -> range object\n",
      " |  range(start, stop[, step]) -> range object\n",
      " |  \n",
      " |  Return an object that produces a sequence of integers from start (inclusive)\n",
      " |  to stop (exclusive) by step.  range(i, j) produces i, i+1, i+2, ..., j-1.\n",
      " |  start defaults to 0, and stop is omitted!  range(4) produces 0, 1, 2, 3.\n",
      " |  These are exactly the valid indices for a list of 4 elements.\n",
      " |  When step is given, it specifies the increment (or decrement).\n",
      " |  \n",
      " |  Methods defined here:\n",
      " |  \n",
      " |  __contains__(self, key, /)\n",
      " |      Return key in self.\n",
      " |  \n",
      " |  __eq__(self, value, /)\n",
      " |      Return self==value.\n",
      " |  \n",
      " |  __ge__(self, value, /)\n",
      " |      Return self>=value.\n",
      " |  \n",
      " |  __getattribute__(self, name, /)\n",
      " |      Return getattr(self, name).\n",
      " |  \n",
      " |  __getitem__(self, key, /)\n",
      " |      Return self[key].\n",
      " |  \n",
      " |  __gt__(self, value, /)\n",
      " |      Return self>value.\n",
      " |  \n",
      " |  __hash__(self, /)\n",
      " |      Return hash(self).\n",
      " |  \n",
      " |  __iter__(self, /)\n",
      " |      Implement iter(self).\n",
      " |  \n",
      " |  __le__(self, value, /)\n",
      " |      Return self<=value.\n",
      " |  \n",
      " |  __len__(self, /)\n",
      " |      Return len(self).\n",
      " |  \n",
      " |  __lt__(self, value, /)\n",
      " |      Return self<value.\n",
      " |  \n",
      " |  __ne__(self, value, /)\n",
      " |      Return self!=value.\n",
      " |  \n",
      " |  __new__(*args, **kwargs) from builtins.type\n",
      " |      Create and return a new object.  See help(type) for accurate signature.\n",
      " |  \n",
      " |  __reduce__(...)\n",
      " |  \n",
      " |  __repr__(self, /)\n",
      " |      Return repr(self).\n",
      " |  \n",
      " |  __reversed__(...)\n",
      " |      Return a reverse iterator.\n",
      " |  \n",
      " |  count(...)\n",
      " |      rangeobject.count(value) -> integer -- return number of occurrences of value\n",
      " |  \n",
      " |  index(...)\n",
      " |      rangeobject.index(value, [start, [stop]]) -> integer -- return index of value.\n",
      " |      Raise ValueError if the value is not present.\n",
      " |  \n",
      " |  ----------------------------------------------------------------------\n",
      " |  Data descriptors defined here:\n",
      " |  \n",
      " |  start\n",
      " |  \n",
      " |  step\n",
      " |  \n",
      " |  stop\n",
      "\n"
     ]
    }
   ],
   "source": [
    "help(range)"
   ]
  },
  {
   "cell_type": "markdown",
   "metadata": {},
   "source": [
    "### while loop\n",
    "\n",
    "while 迴圈用於你不知道迴圈何時會結束, 每一輪 while 迴圈會去確認條件式是否為 True, 為 True 則會繼續執行下去\n",
    "\n",
    "for example: 計算 n! 何時會大於 600"
   ]
  },
  {
   "cell_type": "code",
   "execution_count": 22,
   "metadata": {},
   "outputs": [
    {
     "name": "stdout",
     "output_type": "stream",
     "text": [
      "6! <= 600 < 7!\n"
     ]
    }
   ],
   "source": [
    "# Initialize factorial_num to 1\n",
    "factorial_num = 1\n",
    "# Set limit to 600\n",
    "limit = 600\n",
    "# Initialize iteration counter: i\n",
    "i = 1\n",
    "\n",
    "while factorial_num <= limit:\n",
    "    factorial_num = factorial_num * i\n",
    "    i += 1\n",
    "\n",
    "print(str(i-1) + \"! <= \" + str(limit) + \" < \" + str(i) + \"!\")"
   ]
  },
  {
   "cell_type": "markdown",
   "metadata": {},
   "source": [
    "## 練習\n",
    "\n",
    "#### 注意:\n",
    "\n",
    "請開啟新的 ipython notebook，寫一個 python 3 的程式，檔名為 **學號_pyl3.ipynb** 並上傳至網大作業繳交區。\n",
    "\n",
    "#### 題目:\n",
    "\n",
    "**持續**讓使用者輸入的一個**整數** `n`，並印出一個 `n * n` 乘法表\n",
    "\n",
    "記得要將印出乘法表寫成 function `print_multiplication_table(n)`\n",
    "\n",
    "若使用者輸入數字**小於 1**, 則視為結束程式\n",
    "\n",
    "#### Output example:\n",
    "\n",
    "```\n",
    "n:10\n",
    "    1    2    3    4    5    6    7    8    9   10\n",
    "    2    4    6    8   10   12   14   16   18   20\n",
    "    3    6    9   12   15   18   21   24   27   30\n",
    "    4    8   12   16   20   24   28   32   36   40\n",
    "    5   10   15   20   25   30   35   40   45   50\n",
    "    6   12   18   24   30   36   42   48   54   60\n",
    "    7   14   21   28   35   42   49   56   63   70\n",
    "    8   16   24   32   40   48   56   64   72   80\n",
    "    9   18   27   36   45   54   63   72   81   90\n",
    "   10   20   30   40   50   60   70   80   90  100\n",
    "n:0\n",
    "Bye.\n",
    "```\n",
    "\n",
    "Hint: remember how C print string with format `\"%d\"`"
   ]
  },
  {
   "cell_type": "code",
   "execution_count": null,
   "metadata": {},
   "outputs": [],
   "source": []
  }
 ],
 "metadata": {
  "kernelspec": {
   "display_name": "Python 3",
   "language": "python",
   "name": "python3"
  },
  "language_info": {
   "codemirror_mode": {
    "name": "ipython",
    "version": 3
   },
   "file_extension": ".py",
   "mimetype": "text/x-python",
   "name": "python",
   "nbconvert_exporter": "python",
   "pygments_lexer": "ipython3",
   "version": "3.4.5"
  }
 },
 "nbformat": 4,
 "nbformat_minor": 2
}

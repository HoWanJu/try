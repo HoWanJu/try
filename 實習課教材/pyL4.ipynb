{
 "cells": [
  {
   "cell_type": "markdown",
   "metadata": {},
   "source": [
    "# Lecture 4 - list and tuple"
   ]
  },
  {
   "cell_type": "markdown",
   "metadata": {},
   "source": [
    "### Outline this week\n",
    "\n",
    "* List\n",
    "* Tuple\n",
    "* Lab 練習\n",
    "\n",
    "----"
   ]
  },
  {
   "cell_type": "markdown",
   "metadata": {},
   "source": [
    "### List\n",
    "\n",
    "Q. List 是啥？list 與以前說過的變數型態(e.g. int, float, str)有何差別？\n",
    "\n",
    "A. 在 python 中, list 也是一種變數型態, 拿來**收集(collect)多個值**\n",
    "\n",
    "宣告的方式是以**中括號(square brackets)**來包住多個值, 裡面每個值以**逗號(comma)**來區分開來\n",
    "\n",
    "```python3\n",
    "friends = [ 'Bowen', 'Rexmao', 'Flower' ]\n",
    "```\n",
    "\n",
    "list 在 python 中廣為使用, 因為相當方便, 能夠將多個值包成一個變數"
   ]
  },
  {
   "cell_type": "code",
   "execution_count": null,
   "metadata": {},
   "outputs": [],
   "source": [
    "print([1, 24, 76])\n",
    "print(['red', 'yellow', 'blue'])"
   ]
  },
  {
   "cell_type": "markdown",
   "metadata": {},
   "source": [
    "list 裡的每個元素(element) 可以是任何 python 的物件, 甚至是另外一個 list\n",
    "\n",
    "而 list 也可以是空的唷"
   ]
  },
  {
   "cell_type": "code",
   "execution_count": null,
   "metadata": {},
   "outputs": [],
   "source": [
    "print([ 1, [5, 6], 7])\n",
    "print([])"
   ]
  },
  {
   "cell_type": "markdown",
   "metadata": {},
   "source": [
    "其實我們可能早已用過 list\n",
    "\n",
    "```python\n",
    "for i in [5, 4, 3, 2, 1]:\n",
    "    print(i)\n",
    "print(\"End!\")\n",
    "```\n",
    "\n",
    "list 與迴圈的搭配很常出現\n"
   ]
  },
  {
   "cell_type": "code",
   "execution_count": null,
   "metadata": {},
   "outputs": [],
   "source": [
    "friends = ['Bowen', 'Rexmao', 'Flower']\n",
    "for friend in friends:\n",
    "    print(\"Happy new years, \" + friend)\n",
    "print(\"Done!\")"
   ]
  },
  {
   "cell_type": "markdown",
   "metadata": {},
   "source": [
    "如同我們在 C 中操作陣列(array), 我們可以用中括號搭配數字索引來取得第i個 list 的元素"
   ]
  },
  {
   "cell_type": "code",
   "execution_count": null,
   "metadata": {},
   "outputs": [],
   "source": [
    "friends = ['Bowen', 'Rexmao', 'Flower']\n",
    "print(friends[1])"
   ]
  },
  {
   "cell_type": "markdown",
   "metadata": {},
   "source": [
    "在 python 中, 不同於 string 型態, list 型態是**可以**變動, 更動內容的！"
   ]
  },
  {
   "cell_type": "code",
   "execution_count": null,
   "metadata": {},
   "outputs": [],
   "source": [
    "str1 = \"hello world\"\n",
    "print(str1)\n",
    "str1[0] = \"n\"\n",
    "print(str1)"
   ]
  },
  {
   "cell_type": "code",
   "execution_count": null,
   "metadata": {},
   "outputs": [],
   "source": [
    "lotto = [2, 14, 26, 41, 63]\n",
    "print(lotto)\n",
    "lotto[2] = 28\n",
    "print(lotto)"
   ]
  },
  {
   "cell_type": "markdown",
   "metadata": {},
   "source": [
    "透過 `len()` function, 我們可以知道一個 list 的長度\n",
    "\n",
    "其實利用 `len()`, 我們可以知道任何型態變數的長度"
   ]
  },
  {
   "cell_type": "code",
   "execution_count": null,
   "metadata": {},
   "outputs": [],
   "source": [
    "greet = \"Hello rex\"\n",
    "print(len(greet))\n",
    "x = [1, 2, 'joe', 99]\n",
    "print(len(x))"
   ]
  },
  {
   "cell_type": "markdown",
   "metadata": {},
   "source": [
    "透過 `+` 來連接 lists"
   ]
  },
  {
   "cell_type": "code",
   "execution_count": null,
   "metadata": {},
   "outputs": [],
   "source": [
    "a = [1, 2, 3]\n",
    "b = [3, 4, 5]\n",
    "print(a)\n",
    "c = a + b\n",
    "print(c)"
   ]
  },
  {
   "cell_type": "markdown",
   "metadata": {},
   "source": [
    "透過 `:` 來切割 list"
   ]
  },
  {
   "cell_type": "code",
   "execution_count": null,
   "metadata": {},
   "outputs": [],
   "source": [
    "t = [9, 41, 12, 3, 74, 15]\n",
    "# Remember: Just like in strings, the second number is “up to but not including”\n",
    "print(t[1:3])\n",
    "print(t[:4])\n",
    "print(t[3:])\n",
    "print(t[:])"
   ]
  },
  {
   "cell_type": "markdown",
   "metadata": {},
   "source": [
    "list 有些內建的函數(method) 可以使用, 如 `append, count, pop, insert, etc.`"
   ]
  },
  {
   "cell_type": "code",
   "execution_count": null,
   "metadata": {},
   "outputs": [],
   "source": [
    "x = list()\n",
    "print(type(x))\n",
    "print(dir(x))"
   ]
  },
  {
   "cell_type": "markdown",
   "metadata": {},
   "source": [
    "list 的元素新增是有順序性的"
   ]
  },
  {
   "cell_type": "code",
   "execution_count": null,
   "metadata": {},
   "outputs": [],
   "source": [
    "stuff = list()\n",
    "stuff.append('book')\n",
    "stuff.append(99)\n",
    "print(stuff)\n",
    "stuff.append('cookie')\n",
    "print(stuff)"
   ]
  },
  {
   "cell_type": "markdown",
   "metadata": {},
   "source": [
    "透過 `in` 來查看某元素是否在 list 中"
   ]
  },
  {
   "cell_type": "code",
   "execution_count": null,
   "metadata": {},
   "outputs": [],
   "source": [
    "some = [1, 9, 21, 10, 16]\n",
    "print(9 in some)\n",
    "print(15 in some)\n",
    "print(20 not in some)"
   ]
  },
  {
   "cell_type": "markdown",
   "metadata": {},
   "source": [
    "呼叫 list 的函數 `sort()` 即可對 list 內的元素做排序\n",
    "\n",
    "呼叫 `sort()` 過後, 即會改變 list 當前元素們的順序"
   ]
  },
  {
   "cell_type": "code",
   "execution_count": null,
   "metadata": {},
   "outputs": [],
   "source": [
    "friends = [ 'Joseph', 'Glenn', 'Sally' ]\n",
    "friends.sort()\n",
    "print(friends)\n",
    "print(friends[1])"
   ]
  },
  {
   "cell_type": "markdown",
   "metadata": {},
   "source": [
    "Pyhotn 3 也有一些函式(function) 可以接受 list 為參數(parameters)"
   ]
  },
  {
   "cell_type": "code",
   "execution_count": null,
   "metadata": {},
   "outputs": [],
   "source": [
    "nums = [3, 41, 12, 9, 74, 15]\n",
    "print(len(nums))\n",
    "print(max(nums))\n",
    "print(min(nums))\n",
    "print(sum(nums))\n",
    "print(sum(nums)/len(nums))"
   ]
  },
  {
   "cell_type": "markdown",
   "metadata": {},
   "source": [
    "Example: splitting string into list"
   ]
  },
  {
   "cell_type": "code",
   "execution_count": null,
   "metadata": {},
   "outputs": [],
   "source": [
    "abc = \"With three words\"\n",
    "# You can use different delimiters\n",
    "stuff_1 = abc.split(\" \") # delimiter is a space\n",
    "print(stuff_1)\n",
    "stuff_2 = abc.split(\"r\") # delimiter is 'r'\n",
    "print(stuff_2)"
   ]
  },
  {
   "cell_type": "markdown",
   "metadata": {},
   "source": [
    "### Tuple\n",
    "\n",
    "Q. Tuple 是啥？它跟 list 有啥關聯嗎？\n",
    "\n",
    "A. Tuple 跟 list 很像, 它是以**括弧(parentheses)** 來宣告, 與 list 最大的差別是: **tuple 的內容在建立後便不可變動**, 如同 string 一樣"
   ]
  },
  {
   "cell_type": "code",
   "execution_count": null,
   "metadata": {},
   "outputs": [],
   "source": [
    "x = ('Glenn', 'Sally', 9, [1, 3])\n",
    "print(x[3])\n",
    "y = (1, 2, 9)\n",
    "print(y)\n",
    "print(max(y))"
   ]
  },
  {
   "cell_type": "code",
   "execution_count": null,
   "metadata": {},
   "outputs": [],
   "source": [
    "y = \"abc\"\n",
    "y[2] = \"D\""
   ]
  },
  {
   "cell_type": "code",
   "execution_count": null,
   "metadata": {},
   "outputs": [],
   "source": [
    "z = (5, 4, 3)\n",
    "z[2] = 0"
   ]
  },
  {
   "cell_type": "markdown",
   "metadata": {},
   "source": [
    "故一些 list 中的函數(method) 並不能在 tuple 中使用(e.g. `sort(), append() and reverse()`)"
   ]
  },
  {
   "cell_type": "code",
   "execution_count": null,
   "metadata": {},
   "outputs": [],
   "source": [
    "x = (3, 2, 1)\n",
    "x.sort()"
   ]
  },
  {
   "cell_type": "markdown",
   "metadata": {},
   "source": [
    "因為 tuple 不可更動的特性, 讓它的結構相較於 list 來得簡單\n",
    "\n",
    "故使用 tuple 的效率會較高\n",
    "\n",
    "所以如果在程式中要暫存某個變數, 會偏向使用 tuple"
   ]
  },
  {
   "cell_type": "markdown",
   "metadata": {},
   "source": [
    "----\n",
    "\n",
    "### Lab 練習\n",
    "\n",
    "請開啟一份新的 python 筆記檔案, 檔名為你的學號加上_py04\n",
    "\n",
    "例如: B064020099_py04.ipynb, 寫完上傳至網大.\n",
    "\n",
    "Question: Please write a python code to show the following result. **Note that, please don’t use for loop and if-else.**\n",
    "\n",
    "Output samples:\n",
    "<img src=\"l4_py_lab.png\">\n"
   ]
  },
  {
   "cell_type": "code",
   "execution_count": null,
   "metadata": {},
   "outputs": [],
   "source": []
  }
 ],
 "metadata": {
  "kernelspec": {
   "display_name": "Python 3",
   "language": "python",
   "name": "python3"
  },
  "language_info": {
   "codemirror_mode": {
    "name": "ipython",
    "version": 3
   },
   "file_extension": ".py",
   "mimetype": "text/x-python",
   "name": "python",
   "nbconvert_exporter": "python",
   "pygments_lexer": "ipython3",
   "version": "3.4.5"
  }
 },
 "nbformat": 4,
 "nbformat_minor": 2
}

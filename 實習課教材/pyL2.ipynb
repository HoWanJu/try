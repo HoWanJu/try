{
 "cells": [
  {
   "cell_type": "markdown",
   "metadata": {},
   "source": [
    "# Lecture 2 - Review Expression and Conditional"
   ]
  },
  {
   "cell_type": "markdown",
   "metadata": {},
   "source": [
    "### Outline this week\n",
    "\n",
    "* 運算式 Expression, 運算子 Operator, 運算元 Operand\n",
    "* 條件運算式 Conditional Statement\n",
    "* Lab 練習\n",
    "\n",
    "----"
   ]
  },
  {
   "cell_type": "markdown",
   "metadata": {},
   "source": [
    "### 運算式 Expression, 運算子 Operator, 運算元 Operand\n",
    "\n",
    "在底下例子中,\n",
    "\n",
    "* `a`, `b`, `c` 為 operand\n",
    "* `+` 為 operator\n",
    "* `a = 2`, `b = 3`, `c = a + b` 為 expression"
   ]
  },
  {
   "cell_type": "code",
   "execution_count": 36,
   "metadata": {},
   "outputs": [],
   "source": [
    "a = 2\n",
    "b = 3\n",
    "c = a + b"
   ]
  },
  {
   "cell_type": "markdown",
   "metadata": {},
   "source": [
    "Operator 有以下幾種\n",
    "\n",
    "1. Arithmetic operators (加減乘除, etc.)\n",
    "2. Comparison operators (比大小)\n",
    "3. Assignment operators (指定值)\n",
    "4. Logical operators (邏輯, 是非對錯)\n",
    "5. Bitwise operators (位元運算, 這學期不會提到)"
   ]
  },
  {
   "cell_type": "markdown",
   "metadata": {},
   "source": [
    "#### 1. Arithmetic operators (加減乘除, etc.)\n",
    "\n",
    "| Operator | Name | Description | Example |\n",
    "| -------- | ---- | ----------- | ------- |\n",
    "| `+` | 加 | 將兩 operands 相加 | `10 + 20 → 30` |\n",
    "| `-` | 減 | 將左邊的 operand 減去右邊的 operand | `10 - 20 → -10` |\n",
    "| `*` | 乘 | 將兩 operands 相乘 | `10 * 20 → 200` |\n",
    "| `/` | 真除法(division) | 將左邊 operand 除以右邊 operand | `10 / 20 → 0.5` |\n",
    "| `%` | 餘 | 左邊 operand 除以右邊 operand 後的餘數 | `10 % 20 → 10` |\n",
    "| `**` | 乘冪 | 左邊 operand 為底, 右邊 operand 為次方數 | `100 ** .5 → 10` |\n",
    "| `//` | 假除法(Floor division) | 將左邊 operand 除以右邊 operand, 直接忽略小數點以後的所有數字 | `9//2 → 4` |\n",
    "\n",
    "\n"
   ]
  },
  {
   "cell_type": "markdown",
   "metadata": {},
   "source": [
    "#### 2. Comparison operators (比大小)\n",
    "| Operator | Description | Example |\n",
    "| -------- | ----------- | ------- |\n",
    "| `==` | 確認兩 operands 是否相等 | `(10 == 20) → False` |\n",
    "| `!=` | 確認兩 operands 是否不同 | `(10 != 20) → True` |\n",
    "| `>` | 左邊 operand 是否大於右邊 operand | `(10 > 20) → False` |\n",
    "| `<` | 左邊 operand 是否小於右邊 operand | `(10 < 20) → True` |\n",
    "| `>=` | 左邊 operand 是否大於右邊或等於 operand | `(10 >= 20) → False` |\n",
    "| `<=` | 左邊 operand 是否小於右邊或等於 operand | `(10 <= 20) → True` |\n"
   ]
  },
  {
   "cell_type": "code",
   "execution_count": 38,
   "metadata": {},
   "outputs": [
    {
     "name": "stdout",
     "output_type": "stream",
     "text": [
      "True False 1 0\n"
     ]
    }
   ],
   "source": [
    "# 'False' and 'True' are aliases for the integer '0' and '1', respectively.\n",
    "print(True, False, True+0, False+0)"
   ]
  },
  {
   "cell_type": "markdown",
   "metadata": {},
   "source": [
    "#### 3. Assignment operators (指定值)\n",
    "\n",
    " | Operator | Description | Example |\n",
    " | -------- | ----------- | ------- |\n",
    " | `=` | assignment operator, 將右邊 operand assign 給左邊 operand | `c = a + b` will assign value of `a + b` into `c` |\n",
    " | `+=` | - | `c += a` is equicalent to `c = c + a` |\n",
    " | `-=` | - | `c -= a` is equicalent to `c = c - a` |\n",
    " | `*=` | - | `c *= a` is equicalent to `c = c * a` |\n",
    " | `/=` | - | `c /= a` is equicalent to `c = c / a` |\n",
    " | `%=` | - | `c %= a` is equicalent to `c = c % a` |\n",
    " | `**=` | - | `c **= a` is equicalent to `c = c ** a` |\n",
    " | `//=` | - | `c //= a` is equicalent to `c = c // a` |\n",
    " "
   ]
  },
  {
   "cell_type": "markdown",
   "metadata": {},
   "source": [
    "#### 4. Logical operators (邏輯, 是非對錯)\n",
    "| Operator | Description | Example |\n",
    "| -------- | ----------- | ------- |\n",
    "| and | 左邊與右邊的 operands **皆為 True**, 其值輸出為True | `(True and 0) → False` |\n",
    "| or | 左邊與右邊的 operands **任一為 True**, 其值輸出為True | `(True or 0) → True` |\n",
    "| not | 如果 oprand 為 False, 則輸出為 True; 如果 oprand 為 True, 則輸出為 False | `not 7 → False` <br> `not 0 → True` <br> `not \"hello\" → False` <br> `not False → True` |\n",
    "\n",
    "----"
   ]
  },
  {
   "cell_type": "markdown",
   "metadata": {},
   "source": [
    "### 條件運算式 Conditional Statement\n",
    "\n",
    "> 人生的選擇決定一切。 —— Bill Gates <br>\n",
    "> 放棄也是一種選擇。 —— 你的棄選單\n",
    "\n",
    "本小節帶你一窺 Python 處理**選擇結構**的語法, 會盡量舉一些生動的例子."
   ]
  },
  {
   "cell_type": "markdown",
   "metadata": {},
   "source": [
    "#### One-way decisions using `if`\n",
    "\n",
    "> 如果過胖, 就減肥吧！ —— 雞婆的保健室阿姨\n",
    "\n",
    "```Python\n",
    "if is_overweight == True:\n",
    "    lose_weigth()\n",
    "```\n",
    "\n",
    "* 記得要**縮排** Indentation, 建議縮排以空白為主, 盡量少用 tab <br>\n",
    "  在 Python 中, 你可以選擇一個縮排要幾個空格, 但是要統一"
   ]
  },
  {
   "cell_type": "code",
   "execution_count": 3,
   "metadata": {},
   "outputs": [
    {
     "name": "stdout",
     "output_type": "stream",
     "text": [
      "Got A+\n",
      "You pass this class.\n",
      "All done\n"
     ]
    }
   ],
   "source": [
    "i = 90\n",
    "if(i >= 90):\n",
    "  print(\"Got A+\")\n",
    "\n",
    "  print(\"You pass this class.\")    # 空行並不影響, 只要你有做好縮排, 註解也不影響\n",
    "print(\"All done\")    # 當你停止縮排, 代表我們跳出 if 階段的程式碼了"
   ]
  },
  {
   "cell_type": "markdown",
   "metadata": {},
   "source": [
    "#### Two-way decisions using `if` and `else`\n",
    "\n",
    "> 如果缺席大於三次, 會被當; 否則, 不會被當。 —— 體育老師\n",
    "\n",
    "```Python\n",
    "if absence_count > 3:\n",
    "    fail_class()\n",
    "else:\n",
    "    pass_class()\n",
    "```"
   ]
  },
  {
   "cell_type": "markdown",
   "metadata": {},
   "source": [
    "#### Nested decisions\n",
    "\n",
    "> 如果你餓了, 微波冰箱的食物, 吃了; 否則, 如果有功課, 先把它做完, 之後去洗澡。 —— 老母\n",
    "\n",
    "```Python\n",
    "if hungry == True:\n",
    "    # Multiple statement here is ok\n",
    "    microwave_food()\n",
    "    eat_food()\n",
    "else:\n",
    "    # Nested decision strucutre is ok\n",
    "    if is_exist_homework == True:\n",
    "        do_homework()\n",
    "    take_a_bath()\n",
    "```\n",
    "\n"
   ]
  },
  {
   "cell_type": "markdown",
   "metadata": {},
   "source": [
    "#### Multi-way decisions using `elif`\n",
    "\n",
    "> 如果你月考考 100 分, 送你信義區地契; 如果你月考考 90 分以上, 送你保時捷; 其餘, 讓你去補習。 —— 超凱的老爸\n",
    "\n",
    "```Python\n",
    "if midterm == 100:\n",
    "    get_Xinyi_estate()\n",
    "elif midterm >= 90:\n",
    "    get_Porsche_car()\n",
    "else:\n",
    "    get_after_school_tutoring()\n",
    "```\n",
    "\n",
    "> Python 中沒有像是 C 的 switch。 —— 助教"
   ]
  },
  {
   "cell_type": "markdown",
   "metadata": {},
   "source": [
    "### 意外處理\n",
    "\n",
    "人生有很多意外, 總要有個 Plan B 來以防萬一, 在 Python 中也不意外\n",
    "\n",
    "在此介紹 `try` / `except` 來解決程式中的意外處理\n",
    "\n",
    "如上一週最後的練習, 我們會要求使用者輸入時薪跟工作時數, 進而計算他的工資\n",
    "\n",
    "如果使用者輸入的時薪意外輸入了文字, 而身為程式設計師的我們就要對此情況做意外處理"
   ]
  },
  {
   "cell_type": "code",
   "execution_count": null,
   "metadata": {},
   "outputs": [],
   "source": [
    "import sys    # import is like include in C, we will talk it later.\n",
    "\n",
    "try:\n",
    "    hours = input(\"hours: \")\n",
    "    hours = int(hours)\n",
    "except:\n",
    "    sys.exit(\"Input `hours` must be an integer\")\n",
    "    \n",
    "try:\n",
    "    rate = input(\"rate per hour: \")\n",
    "    rate = float(rate)\n",
    "except:\n",
    "    sys.exit(\"Input `rate` must be an integer or a float\")\n",
    "    \n",
    "print(\"Pay is %d\" %(hours * rate))"
   ]
  },
  {
   "cell_type": "markdown",
   "metadata": {},
   "source": [
    "----\n",
    "\n",
    "### Lab 練習\n",
    "\n",
    "請開啟一份新的 python 筆記檔案, 檔名為你的學號加上_py02\n",
    "\n",
    "例如: B064020099_py02.ipynb, 寫完上傳至網大.\n",
    "\n",
    "Question: 參考中山成績等第制度 <http://www.stuapp.nsysu.edu.tw/tch_sco_degree/desc.html> 中的表四, 讓使用者輸入成績, 告訴他等第成績, 以及有沒有及格(學士班及格標準)\n",
    "\n",
    "Output samples:\n",
    "```\n",
    "Plaese input your grade: 95\n",
    "It's A+.\n",
    "Congratulations! you pass this class.\n",
    "\n",
    "Plaese input your grade: 59\n",
    "It's D.\n",
    "Sorry, you fail this class.\n",
    "```\n"
   ]
  },
  {
   "cell_type": "code",
   "execution_count": null,
   "metadata": {},
   "outputs": [],
   "source": []
  }
 ],
 "metadata": {
  "kernelspec": {
   "display_name": "Python 3",
   "language": "python",
   "name": "python3"
  },
  "language_info": {
   "codemirror_mode": {
    "name": "ipython",
    "version": 3
   },
   "file_extension": ".py",
   "mimetype": "text/x-python",
   "name": "python",
   "nbconvert_exporter": "python",
   "pygments_lexer": "ipython3",
   "version": "3.4.5"
  }
 },
 "nbformat": 4,
 "nbformat_minor": 2
}

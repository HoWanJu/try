{
 "cells": [
  {
   "cell_type": "markdown",
   "metadata": {},
   "source": [
    "# Lecture 5 - dict\n",
    "\n",
    "### Outline this week\n",
    "\n",
    "* Dict\n",
    "* Lab 練習\n",
    "\n",
    "----\n",
    "\n",
    "Dict 為 python 中一種非常強大的容器(Collection)\n",
    "\n",
    "之前提過的 Collection 有 list [a, b, c] 跟 tuple (a, b, c)\n",
    "\n",
    "打個比喻 list 跟 tuple 就像是洋芋片罐子, 這個 collection 罐子裡面只能塞相同尺寸大小的洋芋片\n",
    "\n",
    "而 dict 就像是一個大背包, 裡面可以放各式各樣的物品, 每個物品甚至還有它專屬的暱稱\n",
    "\n",
    "宣告一個空的 dict 有兩種方法\n",
    "\n",
    "```python\n",
    "d = dict()\n",
    "# or\n",
    "d = {}\n",
    "```\n",
    "\n",
    "dict 基本構建有兩個, 一個是 key, 另外一個則是相對應的 value\n",
    "\n",
    "* key to value\n",
    "* key -> value\n",
    "\n",
    "欲在 dict 中插入一個 key-value pair 則以以下寫法\n",
    "\n",
    "d[\"key_name\"] = value\n",
    "\n",
    "當然, 你也可以在初始化時設定一些 key-value pairs"
   ]
  },
  {
   "cell_type": "code",
   "execution_count": 36,
   "metadata": {},
   "outputs": [
    {
     "name": "stdout",
     "output_type": "stream",
     "text": [
      "{'a': 'value', 'another': 'value'}\n",
      "{'a': 'value', 'another': 'value'}\n"
     ]
    }
   ],
   "source": [
    "a = {\n",
    "    'a': 'value',\n",
    "    'another': 'value',\n",
    "}\n",
    "print(a)\n",
    "\n",
    "b = dict( \n",
    "    a='value',\n",
    "    another='value',\n",
    ")\n",
    "print(b)"
   ]
  },
  {
   "cell_type": "markdown",
   "metadata": {},
   "source": [
    "不過在此, 我們推薦第一種方法 (a), 因為第二種方法會限制你的 key 不能為保留字, 否則將會出錯\n",
    "\n",
    "* for example"
   ]
  },
  {
   "cell_type": "code",
   "execution_count": 37,
   "metadata": {},
   "outputs": [
    {
     "ename": "SyntaxError",
     "evalue": "invalid syntax (<ipython-input-37-ef0a91bd84ef>, line 4)",
     "output_type": "error",
     "traceback": [
      "\u001b[0;36m  File \u001b[0;32m\"<ipython-input-37-ef0a91bd84ef>\"\u001b[0;36m, line \u001b[0;32m4\u001b[0m\n\u001b[0;31m    b = {import= 'trade', 1= 7.8}\u001b[0m\n\u001b[0m              ^\u001b[0m\n\u001b[0;31mSyntaxError\u001b[0m\u001b[0;31m:\u001b[0m invalid syntax\n"
     ]
    }
   ],
   "source": [
    "a = {'import': 'trade', 1: 7.8}\n",
    "print(a)\n",
    "# 語法錯誤, 連執行都不會執行, 所以不會印出 a\n",
    "b = {import= 'trade', 1= 7.8}\n",
    "print(b)"
   ]
  },
  {
   "cell_type": "markdown",
   "metadata": {},
   "source": [
    "說到目前為止, 其實 dict 跟 list 很像\n",
    "\n",
    "最大的差別在於 dict 有 key 來找 value, 而不是像 list 是用 indexes 來找 value"
   ]
  },
  {
   "cell_type": "code",
   "execution_count": 38,
   "metadata": {},
   "outputs": [
    {
     "name": "stdout",
     "output_type": "stream",
     "text": [
      "[21, 183]\n",
      "[23, 183]\n",
      "{'course': 182, 'age': 21}\n",
      "{'course': 182, 'age': 23}\n"
     ]
    }
   ],
   "source": [
    "# list\n",
    "lst = list()\n",
    "lst.append(21)\n",
    "lst.append(183)\n",
    "print(lst)\n",
    "lst[0] = 23\n",
    "print(lst)\n",
    "\n",
    "# dict\n",
    "ddd = dict()\n",
    "ddd['age'] = 21\n",
    "ddd['course'] = 182\n",
    "print(ddd)\n",
    "ddd['age'] = 23\n",
    "print(ddd)"
   ]
  },
  {
   "cell_type": "markdown",
   "metadata": {},
   "source": [
    "當你找尋不在 dict 中的 key 時, 會發生錯誤\n",
    "\n",
    "可以透過 in 來確定某個 key 有沒有在一 dict 中"
   ]
  },
  {
   "cell_type": "code",
   "execution_count": 39,
   "metadata": {},
   "outputs": [
    {
     "ename": "KeyError",
     "evalue": "'csev'",
     "output_type": "error",
     "traceback": [
      "\u001b[0;31m---------------------------------------------------------------------------\u001b[0m",
      "\u001b[0;31mKeyError\u001b[0m                                  Traceback (most recent call last)",
      "\u001b[0;32m<ipython-input-39-21f4feaeacbb>\u001b[0m in \u001b[0;36m<module>\u001b[0;34m()\u001b[0m\n\u001b[1;32m      1\u001b[0m \u001b[0mccc\u001b[0m \u001b[0;34m=\u001b[0m \u001b[0mdict\u001b[0m\u001b[0;34m(\u001b[0m\u001b[0;34m)\u001b[0m\u001b[0;34m\u001b[0m\u001b[0m\n\u001b[0;32m----> 2\u001b[0;31m \u001b[0mprint\u001b[0m\u001b[0;34m(\u001b[0m\u001b[0mccc\u001b[0m\u001b[0;34m[\u001b[0m\u001b[0;34m'csev'\u001b[0m\u001b[0;34m]\u001b[0m\u001b[0;34m)\u001b[0m\u001b[0;34m\u001b[0m\u001b[0m\n\u001b[0m",
      "\u001b[0;31mKeyError\u001b[0m: 'csev'"
     ]
    }
   ],
   "source": [
    "ccc = dict()\n",
    "print(ccc['csev'])"
   ]
  },
  {
   "cell_type": "code",
   "execution_count": 40,
   "metadata": {},
   "outputs": [
    {
     "name": "stdout",
     "output_type": "stream",
     "text": [
      "False\n"
     ]
    }
   ],
   "source": [
    "ccc = dict()\n",
    "print('csev' in ccc)"
   ]
  },
  {
   "cell_type": "markdown",
   "metadata": {},
   "source": [
    "藉由 dict 原生的 method, 如果 key 不在 dict 中, 可以作簡單的預設\n",
    "\n",
    "以下是以一個 count 的 dict, 去計算 names 這個 list 中名字出現過的頻率為例子\n",
    "\n",
    "所以執行過後, count 變數應該會存入 {名字: 出現次數, ...} 的 dict"
   ]
  },
  {
   "cell_type": "code",
   "execution_count": 41,
   "metadata": {},
   "outputs": [
    {
     "name": "stdout",
     "output_type": "stream",
     "text": [
      "{'cwen': 2, 'csev': 2, 'zqian': 1}\n"
     ]
    }
   ],
   "source": [
    "counts = dict()\n",
    "names = ['csev', 'cwen', 'csev', 'zqian', 'cwen']\n",
    "for name in names :\n",
    "    # 如果 name 不再 count list 中, 則初始化為 0\n",
    "   counts[name] = counts.get(name, 0) + 1  \n",
    "print(counts)"
   ]
  },
  {
   "cell_type": "markdown",
   "metadata": {},
   "source": [
    "以下是提供使用者輸入一段文字, 幫你統計各個單字出現的頻率的小程式\n",
    "\n",
    "給大家個文章的範例吧\n",
    "\n",
    "```\n",
    " Writing programs (or programming) is a very creative and rewarding activity. You can write programs for many reasons ranging from making your living to solving a difficult data analysis problem to having fun to helping someone else solve a problem. This book assumes that everyone needs to know how to program and that once you know how to program, you will figure out what you want to do with your newfound skills.\n",
    "We are surrounded in our daily lives with computers ranging from laptops to cell phones. We can think of these computers as our ''personal assistants'' who can take care of many things on our behalf. The hardware in our current-day computers is essentially built to continuously ask us the question, ''What would you like me to do next?''\n",
    "Our computers are fast and have vasts amounts of memory and could be very helpful to us if we only knew the language to speak to explain to the computer what we would like it to ''do next''. If we knew this language we could tell the computer to do tasks on our behalf that were repetitive. Interestingly, the kinds of things computers can do best are often the kinds of things that we humans find boring and mind-numbing.\n",
    "  \n",
    "```"
   ]
  },
  {
   "cell_type": "code",
   "execution_count": null,
   "metadata": {},
   "outputs": [],
   "source": [
    "counts = dict()\n",
    "print('Enter a line of text:')\n",
    "line = input('')\n",
    "words = line.split()\n",
    "print('Words:', words)\n",
    "print('Counting...')\n",
    "for word in words:\n",
    "     counts[word] = counts.get(word,0) + 1\n",
    "print('Counts', counts)"
   ]
  },
  {
   "cell_type": "markdown",
   "metadata": {},
   "source": [
    "dict 搭配 for 迴圈, 可以透過 key 來做各個迭代"
   ]
  },
  {
   "cell_type": "code",
   "execution_count": 1,
   "metadata": {},
   "outputs": [
    {
     "name": "stdout",
     "output_type": "stream",
     "text": [
      "fred 42\n",
      "chuck 1\n",
      "jan 100\n"
     ]
    }
   ],
   "source": [
    "counts = { 'chuck' : 1 , 'fred' : 42, 'jan': 100}\n",
    "for key in counts:\n",
    "\tprint(key, counts[key])"
   ]
  },
  {
   "cell_type": "markdown",
   "metadata": {},
   "source": [
    "當你不確定 dict 中的 key-value 有哪些時\n",
    "\n",
    "你可以用 dict.keys(), dict.values(), dict.items() 找出來"
   ]
  },
  {
   "cell_type": "code",
   "execution_count": 2,
   "metadata": {},
   "outputs": [
    {
     "name": "stdout",
     "output_type": "stream",
     "text": [
      "['fred', 'chuck', 'jan']\n",
      "dict_keys(['fred', 'chuck', 'jan'])\n",
      "dict_values([42, 1, 100])\n",
      "dict_items([('fred', 42), ('chuck', 1), ('jan', 100)])\n"
     ]
    }
   ],
   "source": [
    "jjj = { 'chuck' : 1 , 'fred' : 42, 'jan': 100}\n",
    "print(list(jjj))\n",
    "print(jjj.keys())\n",
    "print(jjj.values())\n",
    "print(jjj.items())"
   ]
  },
  {
   "cell_type": "markdown",
   "metadata": {},
   "source": [
    "----\n",
    "\n",
    "## 請繳交兩個 ipynb 檔案至網大, \n",
    "## 檔名為: 學號_py0501.ipynb (lab1的程式碼) 及 學號_py0502.ipynb (lab2的程式碼)\n",
    "\n",
    "### Lab1\n",
    "1.\tPlease import a csv file named 'abbreviations.csv'.\n",
    "2.\tThis csv file had two columns Abbreviation and Mean, so you must let abbreviation be a key of dictionary, and mean be a value of dictionary.\n",
    "\t* Here is a good chinese tutorial of reading csv file: <http://swaywang.blogspot.tw/2012/05/pythoncsv.html>\n",
    "3.\tIf your dictionary created success, calculate how many abbreviations in this dictionary.\n",
    "4.\tSearch the abbreviation of ‘v’, and print it’s mean.\n",
    "5.\tAdd ‘MIS’ this abbreviation into dictionary, and give it’s mean as ‘Management Information System’\n",
    "6.\tSearch the abbreviation of 'TA', and change it to real mean.\n",
    "7.\tSearch the abbreviation of 'flower', and delete it.\n",
    "\n",
    "----\n",
    "\n",
    "### Lab2\n",
    "1.\tPlease import a csv file named 'student_example.csv'.\n",
    "2.\tThis file is the student read how many pages of slide on cyber university. So the student ID will be the key, and the read page will be the value.\n",
    "3.\tNow, TA is too tried to check a practice code, we want to measure the grade by student read slide page times. If read page times is more than 80, mean’s this student is a good student. Please use dictionary comprehension to list the good student, and calculate how many students is good student.\n",
    "Following is the sample output:\n",
    "```\n",
    "There are 22 good students: dict_keys(['B054020044', 'B054020053', 'B056060001', 'B056060006', \n",
    "'B056090031', 'B064020005', 'B064020008', 'B064020012', 'B064020015', 'B064020023', 'B064020024', \n",
    "'B064020026', 'B064020029', 'B064020031', 'B064020034', 'B064020036', 'B064020037', 'B064020040', \n",
    "'B064020043', 'B064020044', 'B064020047', 'B064020051'])\n",
    "```\n"
   ]
  },
  {
   "cell_type": "code",
   "execution_count": null,
   "metadata": {},
   "outputs": [],
   "source": []
  }
 ],
 "metadata": {
  "kernelspec": {
   "display_name": "Python 3",
   "language": "python",
   "name": "python3"
  },
  "language_info": {
   "codemirror_mode": {
    "name": "ipython",
    "version": 3
   },
   "file_extension": ".py",
   "mimetype": "text/x-python",
   "name": "python",
   "nbconvert_exporter": "python",
   "pygments_lexer": "ipython3",
   "version": "3.4.5"
  }
 },
 "nbformat": 4,
 "nbformat_minor": 2
}
